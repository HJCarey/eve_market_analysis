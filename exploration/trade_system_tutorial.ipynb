{
 "cells": [
  {
   "cell_type": "code",
   "execution_count": 7,
   "metadata": {},
   "outputs": [],
   "source": [
    "import pandas as pd\n",
    "import numpy as np\n",
    "import datetime\n",
    "import matplotlib.pyplot as plt\n",
    "%matplotlib inline\n",
    "\n",
    "from bravado.client import SwaggerClient\n",
    "from bravado.exception import HTTPError\n",
    "import helper"
   ]
  },
  {
   "cell_type": "code",
   "execution_count": 2,
   "metadata": {
    "collapsed": true
   },
   "outputs": [],
   "source": [
    "# Lookup type and region info form the SDE\n",
    "sde_client = SwaggerClient.from_url(\"http://evekit-sde.orbital.enterprises/latest/swagger.json\",\n",
    "                                   config={'ues_models': False, 'validate_responses' : False})"
   ]
  },
  {
   "cell_type": "code",
   "execution_count": null,
   "metadata": {},
   "outputs": [],
   "source": [
    "string = \"bob has {0} words\".format(5)\n",
    "print(string)"
   ]
  },
  {
   "cell_type": "code",
   "execution_count": null,
   "metadata": {},
   "outputs": [],
   "source": [
    "# Look up Tritanium and The Forge\n",
    "name = \"Tritanium\"\n",
    "sde_client.Inventory.getTypes(typeName=f\"{{values: ['%s']}}\"%name).result()\n",
    "\n",
    "# If we only wanted the typeID we coulde have done:\n",
    "#  ...result()[0]['typeID']"
   ]
  },
  {
   "cell_type": "code",
   "execution_count": null,
   "metadata": {},
   "outputs": [],
   "source": [
    "# Now lookup The Forge\n",
    "sde_client.Map.getRegions(regionName=\"{values: ['The Forge']}\").result()"
   ]
  },
  {
   "cell_type": "code",
   "execution_count": null,
   "metadata": {
    "collapsed": true
   },
   "outputs": [],
   "source": [
    "# We only need the typeID and regionID though\n",
    "type_id = sde_client.Inventory.getTypes(typeName=\"{values: ['Zydrine']}\").result()[0]['typeID']\n",
    "region_id = sde_client.Map.getRegions(regionName=\"{values: ['The Forge']}\").result()[0]['regionID']"
   ]
  },
  {
   "cell_type": "code",
   "execution_count": null,
   "metadata": {},
   "outputs": [],
   "source": [
    "# Create date range\n",
    "date_range = pd.date_range(datetime.date.today() - datetime.timedelta(days=2), datetime.date.today())\n",
    "date_range"
   ]
  },
  {
   "cell_type": "code",
   "execution_count": 3,
   "metadata": {
    "collapsed": true
   },
   "outputs": [],
   "source": [
    "# Test the Orbital Enterprises market data service\n",
    "#  Fetch daily market averages for every date in our date range\n",
    "\n",
    "# We need a SwaggerClient for the market data colleciton service\n",
    "mdc_client = SwaggerClient.from_url(\"https://evekit-market.orbital.enterprises//swagger\",\n",
    "                                   config={'use_models': False, 'validate_responses' : False})"
   ]
  },
  {
   "cell_type": "code",
   "execution_count": null,
   "metadata": {},
   "outputs": [],
   "source": [
    "# Test the client on the first date in our range\n",
    "mdc_client.MarketData.history(typeID=type_id, regionID=region_id, date=str(date_range[0])).result()"
   ]
  },
  {
   "cell_type": "code",
   "execution_count": null,
   "metadata": {},
   "outputs": [],
   "source": [
    "# Loop through the date range\n",
    "market_history = []\n",
    "for next in date_range:\n",
    "    try:\n",
    "        print(\".\", end=\"\")\n",
    "        next_data = mdc_client.MarketData.history(typeID=type_id, regionID=region_id, date=str(next)).result()\n",
    "        market_history.append(next_data)\n",
    "    except HTTPError:\n",
    "        pass\n",
    "\n",
    "print()\n",
    "market_history"
   ]
  },
  {
   "cell_type": "code",
   "execution_count": null,
   "metadata": {},
   "outputs": [],
   "source": [
    "raw_time = market_history[0]['date']\n",
    "datetime.datetime.utcfromtimestamp(raw_time//1000).replace(microsecond=raw_time%1000*1000)"
   ]
  },
  {
   "cell_type": "code",
   "execution_count": null,
   "metadata": {},
   "outputs": [],
   "source": [
    "def convertRawTime(raw_time):\n",
    "    return datetime.datetime.utcfromtimestamp(raw_time//1000).replace(microsecond=raw_time%1000*1000)\n",
    "\n",
    "mh_frame = pd.DataFrame(market_history, index=[convertRawTime(v['date']) for v in market_history])\n",
    "mh_frame.head()"
   ]
  },
  {
   "cell_type": "code",
   "execution_count": 11,
   "metadata": {},
   "outputs": [],
   "source": [
    "# Plot it\n",
    "# mh_frame.avgPrice.plot(title=\"Tritanium price in The Forge\", figsize=[10,5])"
   ]
  },
  {
   "cell_type": "code",
   "execution_count": null,
   "metadata": {
    "collapsed": true
   },
   "outputs": [],
   "source": [
    "# Look at order books\n"
   ]
  },
  {
   "cell_type": "markdown",
   "metadata": {},
   "source": [
    "### Implement my functions"
   ]
  },
  {
   "cell_type": "code",
   "execution_count": 4,
   "metadata": {},
   "outputs": [],
   "source": [
    "type_id   = helper.get_type_id(sde_client, 'Tritanium')\n",
    "region_id = helper.get_region_id(sde_client, 'The Forge')"
   ]
  },
  {
   "cell_type": "code",
   "execution_count": 8,
   "metadata": {},
   "outputs": [
    {
     "name": "stdout",
     "output_type": "stream",
     "text": [
      "..."
     ]
    }
   ],
   "source": [
    "market_history = helper.get_item_history(mdc_client, type_id, region_id, 2)\n",
    "market_history"
   ]
  },
  {
   "cell_type": "code",
   "execution_count": 9,
   "metadata": {
    "collapsed": true
   },
   "outputs": [],
   "source": [
    "market_history"
   ]
  }
 ],
 "metadata": {
  "kernelspec": {
   "display_name": "Python 3",
   "language": "python",
   "name": "python3"
  },
  "language_info": {
   "codemirror_mode": {
    "name": "ipython",
    "version": 3
   },
   "file_extension": ".py",
   "mimetype": "text/x-python",
   "name": "python",
   "nbconvert_exporter": "python",
   "pygments_lexer": "ipython3",
   "version": "3.6.1"
  }
 },
 "nbformat": 4,
 "nbformat_minor": 2
}
