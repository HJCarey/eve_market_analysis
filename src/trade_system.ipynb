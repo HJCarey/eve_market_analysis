{
 "cells": [
  {
   "cell_type": "code",
   "execution_count": 16,
   "metadata": {},
   "outputs": [
    {
     "name": "stdout",
     "output_type": "stream",
     "text": [
      "The autoreload extension is already loaded. To reload it, use:\n",
      "  %reload_ext autoreload\n"
     ]
    }
   ],
   "source": [
    "import pandas as pd\n",
    "import numpy as np\n",
    "import datetime\n",
    "import matplotlib.pyplot as plt\n",
    "from IPython.display import display\n",
    "%matplotlib inline\n",
    "\n",
    "from bravado.client import SwaggerClient\n",
    "from bravado.exception import HTTPError\n",
    "\n",
    "%load_ext autoreload\n",
    "\n",
    "%autoreload 2\n",
    "import helper\n",
    "from Station import Station"
   ]
  },
  {
   "cell_type": "markdown",
   "metadata": {},
   "source": [
    "### Import client modules\n",
    "These let us interface with the Swagger Client and pull info from EVE's API"
   ]
  },
  {
   "cell_type": "code",
   "execution_count": 2,
   "metadata": {
    "collapsed": true
   },
   "outputs": [],
   "source": [
    "# Lookup type and region info form the SDE\n",
    "sde_client = SwaggerClient.from_url(\"http://evekit-sde.orbital.enterprises/latest/swagger.json\",\n",
    "                                   config={'ues_models': False, 'validate_responses' : False})\n",
    "\n",
    "# We need a SwaggerClient for the market data colleciton service\n",
    "mdc_client = SwaggerClient.from_url(\"https://evekit-market.orbital.enterprises//swagger\",\n",
    "                                   config={'use_models': False, 'validate_responses' : False})"
   ]
  },
  {
   "cell_type": "markdown",
   "metadata": {},
   "source": [
    "### Specify stations and items of interest"
   ]
  },
  {
   "cell_type": "code",
   "execution_count": 6,
   "metadata": {
    "collapsed": true
   },
   "outputs": [],
   "source": [
    "# Choose items and stations of interest\n",
    "# Station Names\n",
    "names_station = ['Jita IV - Moon 4 - Caldari navy Assembly Plant', \n",
    "                 'Amarr VIII (Oris) - Emperor Family Academy']\n",
    "names_station_shorthand = ['Jita 4-4', 'Amarr']\n",
    "dict_names = dict(zip(names_station, names_station_shorthand))\n",
    "# Region names\n",
    "names_region = ['The Forge', 'Domain']\n",
    "# Item names\n",
    "names_items = [\"Biocells\",\"Construction Blocks\",\"Consumer Electronics\"]\n",
    "\n",
    "# Date range of interest (generally just today's date for simple trade find)\n",
    "date = datetime.date.today() - datetime.timedelta(days = 1)"
   ]
  },
  {
   "cell_type": "code",
   "execution_count": 18,
   "metadata": {},
   "outputs": [],
   "source": [
    "stations = [Station(sde_client, key, value) for key, value in dict_names.items()]"
   ]
  },
  {
   "cell_type": "code",
   "execution_count": 22,
   "metadata": {},
   "outputs": [
    {
     "name": "stdout",
     "output_type": "stream",
     "text": [
      "Station Name     : Jita IV - Moon 4 - Caldari navy Assembly Plant\n",
      "Station Shorthand: Jita 4-4\n",
      "Station ID       : 60003760\n",
      "Station Region ID: 10000002\n",
      "\n",
      "Station Name     : Amarr VIII (Oris) - Emperor Family Academy\n",
      "Station Shorthand: Amarr\n",
      "Station ID       : 60008494\n",
      "Station Region ID: 10000043\n",
      "\n"
     ]
    }
   ],
   "source": [
    "for station in stations:\n",
    "    print(f\"Station Name     : %s\"%station.get_station_name())\n",
    "    print(f\"Station Shorthand: %s\"%station.get_station_shorthand())\n",
    "    print(f\"Station ID       : %d\"%station.get_station_id())\n",
    "    print(f\"Station Region ID: %s\"%station.get_region_id())\n",
    "    print()"
   ]
  },
  {
   "cell_type": "code",
   "execution_count": null,
   "metadata": {},
   "outputs": [],
   "source": [
    "# Look up the relative IDs for the names above\n",
    "dict_station = {x: helper.get_station_id(sde_client, x) for x in names_station}\n",
    "dict_region  = {x: helper.get_region_id(sde_client, x) for x in names_region}\n",
    "dict_items   = {x: helper.get_type_id(sde_client, x) for x in names_items}"
   ]
  },
  {
   "cell_type": "code",
   "execution_count": null,
   "metadata": {},
   "outputs": [],
   "source": [
    "# Constuct the master dataframe to house everything\n",
    "df_master = pd.DataFrame(list(dict_items.keys()))\n",
    "df_master.columns = ['Items']\n",
    "df_master.head()"
   ]
  },
  {
   "cell_type": "code",
   "execution_count": null,
   "metadata": {},
   "outputs": [],
   "source": [
    "# Add column for prices of each item for all stations listed, as well as internal spreads\n",
    "for i in range(0, len(names_station)):\n",
    "    # Get region for the station\n",
    "    station_id = helper.get_station_id(sde_client, names_station[i])\n",
    "    region_id = helper.get_stations_region_id(sde_client, names_station[i])\n",
    "    test_series = df_master.apply(lambda row:\n",
    "                        helper.get_item_book(mdc_client,\n",
    "                                            dict_items[row['Items']],\n",
    "                                            station_id,\n",
    "                                            region_id,\n",
    "                                            date), axis=1)\n",
    "#     df_master[names_station_shorthand[i]] = df_master.apply(lambda row:\n",
    "#                         helper.get_item_book(mdc_client,\n",
    "#                                             dict_items[row['Items']],\n",
    "#                                             station_id,\n",
    "#                                             region_id,\n",
    "#                                             date), axis=1)\n",
    "    spread_name = f\"%s: internal spread\"%names_station_shorthand[i]\n",
    "    buy_name = f\"%s: buys\"%names_station_shorthand[i]\n",
    "    sell_name = f\"%s: sells\"%names_station_shorthand[i]\n",
    "    df_master[[spread_name,buy_name,sell_name]] = pd.DataFrame(test_series.values.tolist(), \n",
    "                        index=df_master.index)"
   ]
  },
  {
   "cell_type": "code",
   "execution_count": null,
   "metadata": {},
   "outputs": [],
   "source": [
    "df_master.head()"
   ]
  },
  {
   "cell_type": "code",
   "execution_count": null,
   "metadata": {},
   "outputs": [],
   "source": [
    "df_ids['jita_spread'] = df_ids.apply(lambda row: \n",
    "                helper.get_item_book(mdc_client, \n",
    "                                     row['item_IDs'],\n",
    "                                     row['Jita 4-4'],\n",
    "                                     row['The Forge'], date), axis=1)\n",
    "# df_ids['jita_spread'] = df_ids.apply(lambda row: test_print(row['item_IDs'], row['Jita 4-4']), axis=1)"
   ]
  },
  {
   "cell_type": "code",
   "execution_count": null,
   "metadata": {},
   "outputs": [],
   "source": [
    "df_ids.head()"
   ]
  },
  {
   "cell_type": "code",
   "execution_count": null,
   "metadata": {},
   "outputs": [],
   "source": [
    "df_ids['jita_spread'].values"
   ]
  },
  {
   "cell_type": "code",
   "execution_count": null,
   "metadata": {
    "collapsed": true
   },
   "outputs": [],
   "source": [
    "# Convert IDs to values\n",
    "helper.get_item_history(mdc_client, )"
   ]
  }
 ],
 "metadata": {
  "kernelspec": {
   "display_name": "Python 3",
   "language": "python",
   "name": "python3"
  },
  "language_info": {
   "codemirror_mode": {
    "name": "ipython",
    "version": 3
   },
   "file_extension": ".py",
   "mimetype": "text/x-python",
   "name": "python",
   "nbconvert_exporter": "python",
   "pygments_lexer": "ipython3",
   "version": "3.6.1"
  }
 },
 "nbformat": 4,
 "nbformat_minor": 2
}
