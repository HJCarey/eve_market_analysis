{
 "cells": [
  {
   "cell_type": "code",
   "execution_count": 13,
   "metadata": {},
   "outputs": [
    {
     "name": "stdout",
     "output_type": "stream",
     "text": [
      "The autoreload extension is already loaded. To reload it, use:\n",
      "  %reload_ext autoreload\n"
     ]
    }
   ],
   "source": [
    "import pandas as pd\n",
    "import numpy as np\n",
    "import csv\n",
    "import datetime\n",
    "import itertools\n",
    "import matplotlib.pyplot as plt\n",
    "from IPython.display import display\n",
    "%matplotlib inline\n",
    "\n",
    "from bravado.client import SwaggerClient\n",
    "from bravado.exception import HTTPError\n",
    "\n",
    "%load_ext autoreload\n",
    "\n",
    "%autoreload 2\n",
    "import helper\n",
    "from Station import Station\n",
    "from Query import Query"
   ]
  },
  {
   "cell_type": "markdown",
   "metadata": {},
   "source": [
    "### Import client modules\n",
    "These let us interface with the Swagger Client and pull info from EVE's API"
   ]
  },
  {
   "cell_type": "code",
   "execution_count": 2,
   "metadata": {
    "collapsed": true
   },
   "outputs": [],
   "source": [
    "# Lookup type and region info form the SDE\n",
    "sde_client = SwaggerClient.from_url(\"http://evekit-sde.orbital.enterprises/latest/swagger.json\",\n",
    "                                   config={'ues_models': False, 'validate_responses' : False})\n",
    "\n",
    "# We need a SwaggerClient for the market data colleciton service\n",
    "mdc_client = SwaggerClient.from_url(\"https://evekit-market.orbital.enterprises//swagger\",\n",
    "                                   config={'use_models': False, 'validate_responses' : False})"
   ]
  },
  {
   "cell_type": "markdown",
   "metadata": {},
   "source": [
    "### Specify stations and items of interest"
   ]
  },
  {
   "cell_type": "code",
   "execution_count": 3,
   "metadata": {},
   "outputs": [],
   "source": [
    "# Choose items and stations of interest\n",
    "# Station Names\n",
    "names_station = ['Jita IV - Moon 4 - Caldari navy Assembly Plant', \n",
    "                 'Amarr VIII (Oris) - Emperor Family Academy',\n",
    "                 'Rens VI - Moon 8 - Brutor Tribe Treasury']\n",
    "#                  'Dodixie IX - Moon 20 - Federation Navy Assembly Plant']\n",
    "#                  'Hek VIII - Moon 12 - Boundless Creation Factory',\n",
    "#                  'Oursulaert III - Federation Navy Testing Facilities',\n",
    "#                  'Tash-Murkon Prime II - Moon 1 - Kaalakiota Corporation Factory',\n",
    "#                  'Agil VI - Moon 2 - CONCORD Logistic Support',\n",
    "#                  'Tuomuta III - Ducia Foundry Mining Outpost']\n",
    "# names_station_shorthand = ['Jita 4-4', 'Amarr',\n",
    "#                            'Rens']\n",
    "#                            'Dodixie']\n",
    "#                            'Hek', 'Oursulaert',\n",
    "#                            'Tash-Murkon', 'Agil', 'Tuomuta']\n",
    "# dict_names = dict(zip(names_station, names_station_shorthand))\n",
    "# Region names\n",
    "names_region = ['The Forge', 'Domain']\n",
    "# Item names\n",
    "names_items = [\"Biocells\",\"Construction Blocks\",\"Consumer Electronics\"]\n",
    "\n",
    "# Date range of interest (generally just today's date for simple trade find)\n",
    "date = datetime.date.today() - datetime.timedelta(days = 1)"
   ]
  },
  {
   "cell_type": "code",
   "execution_count": 67,
   "metadata": {},
   "outputs": [
    {
     "data": {
      "text/plain": [
       "['Anti-EM Pump', 'Anti-EM Screen Reinforcer', 'Anti-Explosive Pump']"
      ]
     },
     "execution_count": 67,
     "metadata": {},
     "output_type": "execute_result"
    }
   ],
   "source": [
    "# Load items from csv\n",
    "items_csv = \"../data/rigs.csv\"\n",
    "names_items_full = list(np.array(pd.read_csv(items_csv).values.tolist()).flatten())\n",
    "names_items_full[0:3]"
   ]
  },
  {
   "cell_type": "code",
   "execution_count": 71,
   "metadata": {},
   "outputs": [
    {
     "data": {
      "text/plain": [
       "'Anti-EM Pump'"
      ]
     },
     "execution_count": 71,
     "metadata": {},
     "output_type": "execute_result"
    }
   ],
   "source": [
    "names_items_full[0]"
   ]
  },
  {
   "cell_type": "code",
   "execution_count": 69,
   "metadata": {},
   "outputs": [
    {
     "ename": "IndexError",
     "evalue": "list index out of range",
     "output_type": "error",
     "traceback": [
      "\u001b[0;31m---------------------------------------------------------------------------\u001b[0m",
      "\u001b[0;31mIndexError\u001b[0m                                Traceback (most recent call last)",
      "\u001b[0;32m<ipython-input-69-7eaf952b97b0>\u001b[0m in \u001b[0;36m<module>\u001b[0;34m()\u001b[0m\n\u001b[0;32m----> 1\u001b[0;31m \u001b[0mhelper\u001b[0m\u001b[0;34m.\u001b[0m\u001b[0mget_type_id\u001b[0m\u001b[0;34m(\u001b[0m\u001b[0msde_client\u001b[0m\u001b[0;34m,\u001b[0m \u001b[0mnames_items_full\u001b[0m\u001b[0;34m[\u001b[0m\u001b[0;36m0\u001b[0m\u001b[0;34m]\u001b[0m\u001b[0;34m)\u001b[0m\u001b[0;34m\u001b[0m\u001b[0m\n\u001b[0m",
      "\u001b[0;32m/home/jake/Projects/personal/eve_online/src/helper.py\u001b[0m in \u001b[0;36mget_type_id\u001b[0;34m(sde_client, item)\u001b[0m\n\u001b[1;32m      6\u001b[0m \u001b[0;34m\u001b[0m\u001b[0m\n\u001b[1;32m      7\u001b[0m \u001b[0;32mdef\u001b[0m \u001b[0mget_type_id\u001b[0m\u001b[0;34m(\u001b[0m\u001b[0msde_client\u001b[0m\u001b[0;34m,\u001b[0m \u001b[0mitem\u001b[0m\u001b[0;34m)\u001b[0m\u001b[0;34m:\u001b[0m\u001b[0;34m\u001b[0m\u001b[0m\n\u001b[0;32m----> 8\u001b[0;31m     \u001b[0;32mreturn\u001b[0m \u001b[0msde_client\u001b[0m\u001b[0;34m.\u001b[0m\u001b[0mInventory\u001b[0m\u001b[0;34m.\u001b[0m\u001b[0mgetTypes\u001b[0m\u001b[0;34m(\u001b[0m\u001b[0mtypeName\u001b[0m\u001b[0;34m=\u001b[0m\u001b[0;34mf\"{{values: ['%s']}}\"\u001b[0m\u001b[0;34m%\u001b[0m\u001b[0mitem\u001b[0m\u001b[0;34m)\u001b[0m\u001b[0;34m.\u001b[0m\u001b[0mresult\u001b[0m\u001b[0;34m(\u001b[0m\u001b[0;34m)\u001b[0m\u001b[0;34m[\u001b[0m\u001b[0;36m0\u001b[0m\u001b[0;34m]\u001b[0m\u001b[0;34m[\u001b[0m\u001b[0;34m'typeID'\u001b[0m\u001b[0;34m]\u001b[0m\u001b[0;34m\u001b[0m\u001b[0m\n\u001b[0m\u001b[1;32m      9\u001b[0m \u001b[0;34m\u001b[0m\u001b[0m\n\u001b[1;32m     10\u001b[0m \u001b[0;34m\u001b[0m\u001b[0m\n",
      "\u001b[0;31mIndexError\u001b[0m: list index out of range"
     ]
    }
   ],
   "source": [
    "helper.get_type_id(sde_client, names_items_full[0])"
   ]
  },
  {
   "cell_type": "code",
   "execution_count": 68,
   "metadata": {},
   "outputs": [
    {
     "ename": "IndexError",
     "evalue": "list index out of range",
     "output_type": "error",
     "traceback": [
      "\u001b[0;31m---------------------------------------------------------------------------\u001b[0m",
      "\u001b[0;31mIndexError\u001b[0m                                Traceback (most recent call last)",
      "\u001b[0;32m<ipython-input-68-bdb6b3dc2dfe>\u001b[0m in \u001b[0;36m<module>\u001b[0;34m()\u001b[0m\n\u001b[1;32m      1\u001b[0m \u001b[0;31m# Verify the accuracy of the rig typings\u001b[0m\u001b[0;34m\u001b[0m\u001b[0;34m\u001b[0m\u001b[0m\n\u001b[0;32m----> 2\u001b[0;31m \u001b[0mdict_items\u001b[0m   \u001b[0;34m=\u001b[0m \u001b[0;34m{\u001b[0m\u001b[0mx\u001b[0m\u001b[0;34m:\u001b[0m \u001b[0mhelper\u001b[0m\u001b[0;34m.\u001b[0m\u001b[0mget_type_id\u001b[0m\u001b[0;34m(\u001b[0m\u001b[0msde_client\u001b[0m\u001b[0;34m,\u001b[0m \u001b[0mx\u001b[0m\u001b[0;34m)\u001b[0m \u001b[0;32mfor\u001b[0m \u001b[0mx\u001b[0m \u001b[0;32min\u001b[0m \u001b[0mnames_items_full\u001b[0m\u001b[0;34m}\u001b[0m\u001b[0;34m\u001b[0m\u001b[0m\n\u001b[0m",
      "\u001b[0;32m<ipython-input-68-bdb6b3dc2dfe>\u001b[0m in \u001b[0;36m<dictcomp>\u001b[0;34m(.0)\u001b[0m\n\u001b[1;32m      1\u001b[0m \u001b[0;31m# Verify the accuracy of the rig typings\u001b[0m\u001b[0;34m\u001b[0m\u001b[0;34m\u001b[0m\u001b[0m\n\u001b[0;32m----> 2\u001b[0;31m \u001b[0mdict_items\u001b[0m   \u001b[0;34m=\u001b[0m \u001b[0;34m{\u001b[0m\u001b[0mx\u001b[0m\u001b[0;34m:\u001b[0m \u001b[0mhelper\u001b[0m\u001b[0;34m.\u001b[0m\u001b[0mget_type_id\u001b[0m\u001b[0;34m(\u001b[0m\u001b[0msde_client\u001b[0m\u001b[0;34m,\u001b[0m \u001b[0mx\u001b[0m\u001b[0;34m)\u001b[0m \u001b[0;32mfor\u001b[0m \u001b[0mx\u001b[0m \u001b[0;32min\u001b[0m \u001b[0mnames_items_full\u001b[0m\u001b[0;34m}\u001b[0m\u001b[0;34m\u001b[0m\u001b[0m\n\u001b[0m",
      "\u001b[0;32m/home/jake/Projects/personal/eve_online/src/helper.py\u001b[0m in \u001b[0;36mget_type_id\u001b[0;34m(sde_client, item)\u001b[0m\n\u001b[1;32m      6\u001b[0m \u001b[0;34m\u001b[0m\u001b[0m\n\u001b[1;32m      7\u001b[0m \u001b[0;32mdef\u001b[0m \u001b[0mget_type_id\u001b[0m\u001b[0;34m(\u001b[0m\u001b[0msde_client\u001b[0m\u001b[0;34m,\u001b[0m \u001b[0mitem\u001b[0m\u001b[0;34m)\u001b[0m\u001b[0;34m:\u001b[0m\u001b[0;34m\u001b[0m\u001b[0m\n\u001b[0;32m----> 8\u001b[0;31m     \u001b[0;32mreturn\u001b[0m \u001b[0msde_client\u001b[0m\u001b[0;34m.\u001b[0m\u001b[0mInventory\u001b[0m\u001b[0;34m.\u001b[0m\u001b[0mgetTypes\u001b[0m\u001b[0;34m(\u001b[0m\u001b[0mtypeName\u001b[0m\u001b[0;34m=\u001b[0m\u001b[0;34mf\"{{values: ['%s']}}\"\u001b[0m\u001b[0;34m%\u001b[0m\u001b[0mitem\u001b[0m\u001b[0;34m)\u001b[0m\u001b[0;34m.\u001b[0m\u001b[0mresult\u001b[0m\u001b[0;34m(\u001b[0m\u001b[0;34m)\u001b[0m\u001b[0;34m[\u001b[0m\u001b[0;36m0\u001b[0m\u001b[0;34m]\u001b[0m\u001b[0;34m[\u001b[0m\u001b[0;34m'typeID'\u001b[0m\u001b[0;34m]\u001b[0m\u001b[0;34m\u001b[0m\u001b[0m\n\u001b[0m\u001b[1;32m      9\u001b[0m \u001b[0;34m\u001b[0m\u001b[0m\n\u001b[1;32m     10\u001b[0m \u001b[0;34m\u001b[0m\u001b[0m\n",
      "\u001b[0;31mIndexError\u001b[0m: list index out of range"
     ]
    }
   ],
   "source": [
    "# Verify the accuracy of the rig typings\n",
    "dict_items   = {x: helper.get_type_id(sde_client, x) for x in names_items_full}"
   ]
  },
  {
   "cell_type": "code",
   "execution_count": 5,
   "metadata": {},
   "outputs": [],
   "source": [
    "stations = {name: Station(sde_client, name) for name in names_station}"
   ]
  },
  {
   "cell_type": "code",
   "execution_count": 6,
   "metadata": {},
   "outputs": [
    {
     "name": "stdout",
     "output_type": "stream",
     "text": [
      "<Station.Station object at 0x7f4ce6784a20>\n",
      "Station Name     : Jita IV - Moon 4 - Caldari navy Assembly Plant\n",
      "Station Shorthand: Jita\n",
      "Station ID       : 60003760\n",
      "Station Region ID: 10000002\n",
      "\n",
      "<Station.Station object at 0x7f4ce71a6c88>\n",
      "Station Name     : Amarr VIII (Oris) - Emperor Family Academy\n",
      "Station Shorthand: Amarr\n",
      "Station ID       : 60008494\n",
      "Station Region ID: 10000043\n",
      "\n",
      "<Station.Station object at 0x7f4d2443c6d8>\n",
      "Station Name     : Rens VI - Moon 8 - Brutor Tribe Treasury\n",
      "Station Shorthand: Rens\n",
      "Station ID       : 60004588\n",
      "Station Region ID: 10000030\n",
      "\n"
     ]
    }
   ],
   "source": [
    "for key, station in stations.items():\n",
    "    print(station)\n",
    "    print(f\"Station Name     : %s\"%station.get_station_name())\n",
    "    print(f\"Station Shorthand: %s\"%station.get_station_shorthand())\n",
    "    print(f\"Station ID       : %d\"%station.get_station_id())\n",
    "    print(f\"Station Region ID: %s\"%station.get_region_id())\n",
    "    print()"
   ]
  },
  {
   "cell_type": "code",
   "execution_count": 7,
   "metadata": {},
   "outputs": [
    {
     "data": {
      "text/plain": [
       "dict_keys(['Jita IV - Moon 4 - Caldari navy Assembly Plant', 'Amarr VIII (Oris) - Emperor Family Academy', 'Rens VI - Moon 8 - Brutor Tribe Treasury'])"
      ]
     },
     "execution_count": 7,
     "metadata": {},
     "output_type": "execute_result"
    }
   ],
   "source": [
    "stations.keys()"
   ]
  },
  {
   "cell_type": "code",
   "execution_count": 8,
   "metadata": {
    "collapsed": true
   },
   "outputs": [],
   "source": [
    "# Look up the relative IDs for the names above\n",
    "dict_station = {x: helper.get_station_id(sde_client, x) for x in names_station}\n",
    "dict_region  = {x: helper.get_region_id(sde_client, x) for x in names_region}\n",
    "dict_items   = {x: helper.get_type_id(sde_client, x) for x in names_items}"
   ]
  },
  {
   "cell_type": "code",
   "execution_count": 10,
   "metadata": {
    "scrolled": false
   },
   "outputs": [],
   "source": [
    "# Create a query with Jita as the master station\n",
    "master_station = stations['Jita IV - Moon 4 - Caldari navy Assembly Plant']\n",
    "query = Query(sde_client, mdc_client, master_station, stations, dict_items, date)"
   ]
  },
  {
   "cell_type": "code",
   "execution_count": 11,
   "metadata": {},
   "outputs": [
    {
     "name": "stdout",
     "output_type": "stream",
     "text": [
      "Jita IV - Moon 4 - Caldari navy Assembly Plant\n"
     ]
    }
   ],
   "source": [
    "print(query.get_master_station().get_station_name())"
   ]
  },
  {
   "cell_type": "code",
   "execution_count": 12,
   "metadata": {},
   "outputs": [
    {
     "data": {
      "text/html": [
       "<div>\n",
       "<table border=\"1\" class=\"dataframe\">\n",
       "  <thead>\n",
       "    <tr style=\"text-align: right;\">\n",
       "      <th></th>\n",
       "      <th>Items</th>\n",
       "      <th>Jita: buys</th>\n",
       "      <th>Jita: sells</th>\n",
       "      <th>Amarr: buys</th>\n",
       "      <th>Amarr: sells</th>\n",
       "      <th>Rens: buys</th>\n",
       "      <th>Rens: sells</th>\n",
       "      <th>Jita: Internal Spread</th>\n",
       "      <th>Jita: Buy, Amarr: Sell</th>\n",
       "      <th>Amarr: Buy, Jita: Sell</th>\n",
       "      <th>Jita: Buy, Rens: Sell</th>\n",
       "      <th>Rens: Buy, Jita: Sell</th>\n",
       "    </tr>\n",
       "  </thead>\n",
       "  <tbody>\n",
       "    <tr>\n",
       "      <th>0</th>\n",
       "      <td>Biocells</td>\n",
       "      <td>10200.01</td>\n",
       "      <td>10820.90</td>\n",
       "      <td>8201.25</td>\n",
       "      <td>9999.24</td>\n",
       "      <td>300.00</td>\n",
       "      <td>8800.00</td>\n",
       "      <td>[620.8899999999994, 5.737877625705805]</td>\n",
       "      <td>[-200.77000000000044, -2.007852596797361]</td>\n",
       "      <td>[2619.6499999999996, 24.209169292757533]</td>\n",
       "      <td>[-1400.0100000000002, -15.909204545454546]</td>\n",
       "      <td>[10520.9, 97.22758735410179]</td>\n",
       "    </tr>\n",
       "    <tr>\n",
       "      <th>1</th>\n",
       "      <td>Construction Blocks</td>\n",
       "      <td>12000.00</td>\n",
       "      <td>12799.90</td>\n",
       "      <td>9901.53</td>\n",
       "      <td>12347.94</td>\n",
       "      <td>9505.00</td>\n",
       "      <td>12199.89</td>\n",
       "      <td>[799.8999999999996, 6.249267572402907]</td>\n",
       "      <td>[347.9400000000005, 2.817797948483719]</td>\n",
       "      <td>[2898.369999999999, 22.643692528847875]</td>\n",
       "      <td>[199.88999999999942, 1.6384573959273354]</td>\n",
       "      <td>[3294.8999999999996, 25.741607356307465]</td>\n",
       "    </tr>\n",
       "    <tr>\n",
       "      <th>2</th>\n",
       "      <td>Consumer Electronics</td>\n",
       "      <td>13101.87</td>\n",
       "      <td>13982.89</td>\n",
       "      <td>10959.64</td>\n",
       "      <td>13658.61</td>\n",
       "      <td>11601.17</td>\n",
       "      <td>NaN</td>\n",
       "      <td>[881.0199999999986, 6.3007003559349934]</td>\n",
       "      <td>[556.7399999999998, 4.076110233764635]</td>\n",
       "      <td>[3023.25, 21.621066889605796]</td>\n",
       "      <td>[nan, nan]</td>\n",
       "      <td>[2381.7199999999993, 17.033102598962014]</td>\n",
       "    </tr>\n",
       "  </tbody>\n",
       "</table>\n",
       "</div>"
      ],
      "text/plain": [
       "                  Items  Jita: buys  Jita: sells  Amarr: buys  Amarr: sells  \\\n",
       "0              Biocells    10200.01     10820.90      8201.25       9999.24   \n",
       "1   Construction Blocks    12000.00     12799.90      9901.53      12347.94   \n",
       "2  Consumer Electronics    13101.87     13982.89     10959.64      13658.61   \n",
       "\n",
       "   Rens: buys  Rens: sells                    Jita: Internal Spread  \\\n",
       "0      300.00      8800.00   [620.8899999999994, 5.737877625705805]   \n",
       "1     9505.00     12199.89   [799.8999999999996, 6.249267572402907]   \n",
       "2    11601.17          NaN  [881.0199999999986, 6.3007003559349934]   \n",
       "\n",
       "                      Jita: Buy, Amarr: Sell  \\\n",
       "0  [-200.77000000000044, -2.007852596797361]   \n",
       "1     [347.9400000000005, 2.817797948483719]   \n",
       "2     [556.7399999999998, 4.076110233764635]   \n",
       "\n",
       "                     Amarr: Buy, Jita: Sell  \\\n",
       "0  [2619.6499999999996, 24.209169292757533]   \n",
       "1   [2898.369999999999, 22.643692528847875]   \n",
       "2             [3023.25, 21.621066889605796]   \n",
       "\n",
       "                        Jita: Buy, Rens: Sell  \\\n",
       "0  [-1400.0100000000002, -15.909204545454546]   \n",
       "1    [199.88999999999942, 1.6384573959273354]   \n",
       "2                                  [nan, nan]   \n",
       "\n",
       "                      Rens: Buy, Jita: Sell  \n",
       "0              [10520.9, 97.22758735410179]  \n",
       "1  [3294.8999999999996, 25.741607356307465]  \n",
       "2  [2381.7199999999993, 17.033102598962014]  "
      ]
     },
     "execution_count": 12,
     "metadata": {},
     "output_type": "execute_result"
    }
   ],
   "source": [
    "query.get_master_df().head()"
   ]
  },
  {
   "cell_type": "code",
   "execution_count": null,
   "metadata": {},
   "outputs": [],
   "source": [
    "mdc_client.MarketData.book(typeID=dict_items['Biocells'], regionID=dict_region['The Forge'],\n",
    "                          date=str(date)).result()"
   ]
  },
  {
   "cell_type": "code",
   "execution_count": null,
   "metadata": {},
   "outputs": [],
   "source": [
    "# Old query using ALL stations instead of a maste rstation\n",
    "# query = Query(sde_client, mdc_client, dict_items, stations, date)"
   ]
  },
  {
   "cell_type": "code",
   "execution_count": null,
   "metadata": {},
   "outputs": [],
   "source": [
    "query.get_master_df().head()"
   ]
  },
  {
   "cell_type": "markdown",
   "metadata": {},
   "source": [
    "### Test Realm"
   ]
  },
  {
   "cell_type": "code",
   "execution_count": null,
   "metadata": {},
   "outputs": [],
   "source": [
    "# Try to find a station's Region name with only the station info or region ID\n",
    "sde_client.Map()"
   ]
  },
  {
   "cell_type": "code",
   "execution_count": null,
   "metadata": {
    "scrolled": true
   },
   "outputs": [],
   "source": [
    "# Test station comparisons function\n",
    "test = ['a', 'b', 'c']\n",
    "test_list = [test, test]\n",
    "print(test_list)\n",
    "print()\n",
    "\n",
    "# test_cross = itertools.combinations(test_list, r=2)\n",
    "# for item in test_cross:\n",
    "#     print(item)\n",
    "\n",
    "test_cross = [item for item in itertools.combinations(query.stations.keys(), r=2)]\n",
    "test_cross"
   ]
  },
  {
   "cell_type": "code",
   "execution_count": null,
   "metadata": {},
   "outputs": [],
   "source": [
    "# Test cross for external buy/sell spreads\n",
    "test_df = query.get_master_df()\n",
    "display(test_df.head())"
   ]
  },
  {
   "cell_type": "code",
   "execution_count": null,
   "metadata": {},
   "outputs": [],
   "source": [
    "def calculate_spread(buy, sell):\n",
    "        profit = sell-buy\n",
    "        percentage = 100*(profit/sell)\n",
    "        diff = [profit, percentage]\n",
    "        \n",
    "        return diff"
   ]
  },
  {
   "cell_type": "code",
   "execution_count": null,
   "metadata": {},
   "outputs": [],
   "source": [
    "for stations in test_cross:\n",
    "#     display(test_df.head())\n",
    "    stations_dict = query.get_stations()\n",
    "    np.nan\n",
    "    station_a = stations_dict[stations[0]]\n",
    "    station_b = stations_dict[stations[1]]\n",
    "#     print(station_a.get_station_shorthand())\n",
    "#     print(station_b.get_station_shorthand())\n",
    "    \n",
    "#     test_df.apply(lambda x: print(x[f'%s: sells'%station_b.get_station_shorthand()]), axis=1)\n",
    "\n",
    "#     print(calculate_spread())\n",
    "\n",
    "    test_df[f'%s: Buy, %s: Sell'%(station_a.get_station_shorthand(), station_b.get_station_shorthand())]  \\\n",
    "        = test_df.apply(lambda x: calculate_spread(x[f'%s: buys'%station_a.get_station_shorthand()],\n",
    "                                                   x[f'%s: sells'%station_b.get_station_shorthand()]), axis=1)\n",
    "        \n",
    "    test_df[f'%s: Buy, %s: Sell'%(station_b.get_station_shorthand(), station_a.get_station_shorthand())]  \\\n",
    "        = test_df.apply(lambda x: calculate_spread(x[f'%s: buys'%station_b.get_station_shorthand()],\n",
    "                                                   x[f'%s: sells'%station_a.get_station_shorthand()]), axis=1)\n",
    "    \n",
    "#     test_df[f'%s: Sell, %s: Buy'%(\n",
    "#         station_a.get_station_shorthand(), station_b.get_station_shorthand())] = 5"
   ]
  },
  {
   "cell_type": "code",
   "execution_count": null,
   "metadata": {},
   "outputs": [],
   "source": [
    "test_df.head()"
   ]
  },
  {
   "cell_type": "code",
   "execution_count": null,
   "metadata": {},
   "outputs": [],
   "source": [
    "buy = 9601\n",
    "sell = 10498\n",
    "profit = sell-buy\n",
    "print(profit)\n",
    "percentage = 100*(profit/sell)\n",
    "print(percentage)"
   ]
  },
  {
   "cell_type": "code",
   "execution_count": null,
   "metadata": {
    "collapsed": true
   },
   "outputs": [],
   "source": []
  }
 ],
 "metadata": {
  "kernelspec": {
   "display_name": "Python 3",
   "language": "python",
   "name": "python3"
  },
  "language_info": {
   "codemirror_mode": {
    "name": "ipython",
    "version": 3
   },
   "file_extension": ".py",
   "mimetype": "text/x-python",
   "name": "python",
   "nbconvert_exporter": "python",
   "pygments_lexer": "ipython3",
   "version": "3.6.1"
  }
 },
 "nbformat": 4,
 "nbformat_minor": 2
}
